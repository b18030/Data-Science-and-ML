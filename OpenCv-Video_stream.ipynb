{
 "cells": [
  {
   "cell_type": "code",
   "execution_count": null,
   "metadata": {},
   "outputs": [],
   "source": []
  },
  {
   "cell_type": "markdown",
   "metadata": {},
   "source": [
    "### Haar Cascade is a machine learning object detection algorithm"
   ]
  },
  {
   "cell_type": "markdown",
   "metadata": {},
   "source": [
    "##### A computer program that decides whether an image is a positive image (face image) or negative image (non-face image) is called a classifier. A classifier is trained on hundreds of thousands of face and non-face images to learn how to classify a new image correctly. OpenCV provides us with two pre-trained and ready to be used for face detection classifiers:\n",
    "- __Haar Classifier__\n",
    "- LBP Classifier"
   ]
  },
  {
   "cell_type": "markdown",
   "metadata": {},
   "source": [
    "Both of these classifiers process images in gray scales, basically because we don't need color information to decide if a picture has a face or not (we'll talk more about this later on). As these are pre-trained in OpenCV, their learned knowledge files also come bundled with OpenCV opencv/data/.\n"
   ]
  },
  {
   "cell_type": "markdown",
   "metadata": {},
   "source": [
    "__The Haar Classifier is a machine learning based approach, an algorithm ; which (as mentioned before) are trained from many many positive images (with faces) and negatives images (without faces).__"
   ]
  },
  {
   "cell_type": "markdown",
   "metadata": {},
   "source": [
    "Before we can continue with face detection, we have to load our Haar cascade classifier.\n",
    "\n",
    "OpenCV provides us with a class __cv2.CascadeClassifier__ which takes as input the training file of the (Haar/LBP) classifier we want to load and loads it for us."
   ]
  },
  {
   "cell_type": "markdown",
   "metadata": {},
   "source": [
    "___detectMultiScale(image, scaleFactor, minNeighbors)___: This is a general function to detect objects, in this case, it'll detect faces since we called in the face cascade. If it finds a face, it returns a list of positions of said face in the form “Rect(x,y,w,h).”, if not, then returns “None”.\n",
    "<br>\n",
    "- __Image__: The first input is the grayscale image. So __make sure the image is in grayscale.__\n",
    "<br>\n",
    "- __scaleFactor__: This function compensates a false perception in size that occurs when one face appears to be bigger than the other simply because it is closer to the camera.\n",
    "<br>\n",
    "- __minNeighbors:__ This is a detection algorithm that uses a moving window to detect objects, it does so by defining how many objects are found near the current one before it can declare the face found.\n",
    "<br>"
   ]
  },
  {
   "cell_type": "markdown",
   "metadata": {},
   "source": [
    "![title](https://d1jnx9ba8s6j9r.cloudfront.net/blog/wp-content/uploads/2018/12/Picture2-10-768x306.png)"
   ]
  },
  {
   "cell_type": "markdown",
   "metadata": {},
   "source": [
    "![title](https://d1jnx9ba8s6j9r.cloudfront.net/blog/wp-content/uploads/2018/12/Picture2-12-768x285.png)"
   ]
  },
  {
   "cell_type": "markdown",
   "metadata": {},
   "source": [
    "First, we import the OpenCV library as usual. Next, we have a method called __VideoCapture which is used to create the VideoCapture object__. This method is __used to trigger the camera on the user’s machine. The parameter to this function denotes if the program should make use of the built-in camera or an add-on camera. ‘0’ denotes the built-in camera in this case.__\n",
    "\n",
    "And lastly, the __release method is used to release the camera in a few milliseconds.__"
   ]
  },
  {
   "cell_type": "markdown",
   "metadata": {},
   "source": [
    "![title](https://d1jnx9ba8s6j9r.cloudfront.net/blog/wp-content/uploads/2018/12/Picture2-14-768x401.png)"
   ]
  },
  {
   "cell_type": "markdown",
   "metadata": {},
   "source": [
    "![title](https://d1jnx9ba8s6j9r.cloudfront.net/blog/wp-content/uploads/2018/12/Picture2-17.png)"
   ]
  },
  {
   "cell_type": "code",
   "execution_count": null,
   "metadata": {},
   "outputs": [],
   "source": []
  }
 ],
 "metadata": {
  "kernelspec": {
   "display_name": "Python 3",
   "language": "python",
   "name": "python3"
  },
  "language_info": {
   "codemirror_mode": {
    "name": "ipython",
    "version": 3
   },
   "file_extension": ".py",
   "mimetype": "text/x-python",
   "name": "python",
   "nbconvert_exporter": "python",
   "pygments_lexer": "ipython3",
   "version": "3.7.3"
  }
 },
 "nbformat": 4,
 "nbformat_minor": 2
}
