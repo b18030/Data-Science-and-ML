{
 "cells": [
  {
   "cell_type": "markdown",
   "metadata": {},
   "source": [
    "### Python Pandas - Indexing and Selecting Data\n",
    "\n",
    "- Pandas supports three types of Multi-axes indexing; the three types are mentioned in the following table "
   ]
  },
  {
   "cell_type": "markdown",
   "metadata": {},
   "source": [
    "-\t.loc() - __Label based__\n",
    "-   .iloc() - __Integer based__\n",
    "-\t.ix()   - __Both Label and Integer based__"
   ]
  },
  {
   "cell_type": "markdown",
   "metadata": {},
   "source": [
    "### .loc()\n",
    "Pandas provide various methods to have purely label based indexing. When slicing, the start bound is also included. Integers are valid labels, but they refer to the label and not the position"
   ]
  },
  {
   "cell_type": "code",
   "execution_count": 1,
   "metadata": {},
   "outputs": [
    {
     "data": {
      "text/plain": [
       "a    0.323755\n",
       "b   -1.058124\n",
       "c    0.537290\n",
       "d    0.524072\n",
       "e   -0.399238\n",
       "f    0.031036\n",
       "g   -0.295294\n",
       "h   -1.066340\n",
       "Name: A, dtype: float64"
      ]
     },
     "execution_count": 1,
     "metadata": {},
     "output_type": "execute_result"
    }
   ],
   "source": [
    "#import the pandas library and aliasing as pd\n",
    "import pandas as pd\n",
    "import numpy as np\n",
    "import matplotlib.pyplot as plt\n",
    "\n",
    "df = pd.DataFrame(np.random.randn(8, 4),\n",
    "index = ['a','b','c','d','e','f','g','h'], columns = ['A', 'B', 'C', 'D'])\n",
    "\n",
    "#select all rows for a specific column\n",
    "df.loc[:,'A']"
   ]
  },
  {
   "cell_type": "code",
   "execution_count": 2,
   "metadata": {},
   "outputs": [
    {
     "name": "stdout",
     "output_type": "stream",
     "text": [
      "          A         C\n",
      "a  0.323755  2.098298\n",
      "b -1.058124 -0.288998\n",
      "c  0.537290  1.015672\n",
      "d  0.524072  0.557222\n",
      "e -0.399238  0.530696\n",
      "f  0.031036  0.297890\n",
      "g -0.295294 -0.936848\n",
      "h -1.066340 -0.551119\n"
     ]
    }
   ],
   "source": [
    "# Select all rows for multiple columns, say list[]\n",
    "print(df.loc[:,['A','C']])"
   ]
  },
  {
   "cell_type": "code",
   "execution_count": 3,
   "metadata": {},
   "outputs": [
    {
     "name": "stdout",
     "output_type": "stream",
     "text": [
      "          A         C\n",
      "a  0.323755  2.098298\n",
      "b -1.058124 -0.288998\n",
      "f  0.031036  0.297890\n",
      "h -1.066340 -0.551119\n"
     ]
    }
   ],
   "source": [
    "# Select few rows for multiple columns, say list[]\n",
    "print(df.loc[['a','b','f','h'],['A','C']])"
   ]
  },
  {
   "cell_type": "code",
   "execution_count": 4,
   "metadata": {},
   "outputs": [
    {
     "name": "stdout",
     "output_type": "stream",
     "text": [
      "          A         B         C         D\n",
      "a  0.323755 -0.748595  2.098298  1.253114\n",
      "b -1.058124  1.637993 -0.288998 -0.746827\n",
      "c  0.537290  2.954592  1.015672 -0.269232\n",
      "d  0.524072  0.800506  0.557222  0.002823\n",
      "e -0.399238 -0.907421  0.530696  1.068333\n",
      "f  0.031036 -0.160582  0.297890 -1.302941\n",
      "g -0.295294  0.125197 -0.936848 -1.200805\n",
      "h -1.066340  0.641352 -0.551119  0.849330\n"
     ]
    }
   ],
   "source": [
    "# Select range of rows for all columns\n",
    "print (df.loc['a':'h'])"
   ]
  },
  {
   "cell_type": "markdown",
   "metadata": {},
   "source": [
    "### .iloc()\n",
    "Pandas provide various methods in order to get purely integer based indexing. Like python and numpy, these are 0-based indexing.\n",
    "\n",
    "The various access methods are as follows −\n",
    "\n",
    ">An Integer <br>\n",
    ">A list of integers<br>\n",
    ">A range of values<br>"
   ]
  },
  {
   "cell_type": "code",
   "execution_count": 5,
   "metadata": {},
   "outputs": [
    {
     "name": "stdout",
     "output_type": "stream",
     "text": [
      "          A         B         C         D\n",
      "a  0.323755 -0.748595  2.098298  1.253114\n",
      "b -1.058124  1.637993 -0.288998 -0.746827\n",
      "c  0.537290  2.954592  1.015672 -0.269232\n",
      "d  0.524072  0.800506  0.557222  0.002823\n",
      "          C         D\n",
      "b -0.288998 -0.746827\n",
      "c  1.015672 -0.269232\n",
      "d  0.557222  0.002823\n",
      "e  0.530696  1.068333\n"
     ]
    }
   ],
   "source": [
    "# Integer slicing\n",
    "print (df.iloc[:4])\n",
    "print (df.iloc[1:5, 2:4])"
   ]
  },
  {
   "cell_type": "code",
   "execution_count": 6,
   "metadata": {},
   "outputs": [
    {
     "data": {
      "text/html": [
       "<div>\n",
       "<style scoped>\n",
       "    .dataframe tbody tr th:only-of-type {\n",
       "        vertical-align: middle;\n",
       "    }\n",
       "\n",
       "    .dataframe tbody tr th {\n",
       "        vertical-align: top;\n",
       "    }\n",
       "\n",
       "    .dataframe thead th {\n",
       "        text-align: right;\n",
       "    }\n",
       "</style>\n",
       "<table border=\"1\" class=\"dataframe\">\n",
       "  <thead>\n",
       "    <tr style=\"text-align: right;\">\n",
       "      <th></th>\n",
       "      <th>A</th>\n",
       "      <th>B</th>\n",
       "      <th>C</th>\n",
       "      <th>D</th>\n",
       "    </tr>\n",
       "  </thead>\n",
       "  <tbody>\n",
       "    <tr>\n",
       "      <th>a</th>\n",
       "      <td>0.323755</td>\n",
       "      <td>-0.748595</td>\n",
       "      <td>2.098298</td>\n",
       "      <td>1.253114</td>\n",
       "    </tr>\n",
       "    <tr>\n",
       "      <th>b</th>\n",
       "      <td>-1.058124</td>\n",
       "      <td>1.637993</td>\n",
       "      <td>-0.288998</td>\n",
       "      <td>-0.746827</td>\n",
       "    </tr>\n",
       "    <tr>\n",
       "      <th>c</th>\n",
       "      <td>0.537290</td>\n",
       "      <td>2.954592</td>\n",
       "      <td>1.015672</td>\n",
       "      <td>-0.269232</td>\n",
       "    </tr>\n",
       "    <tr>\n",
       "      <th>d</th>\n",
       "      <td>0.524072</td>\n",
       "      <td>0.800506</td>\n",
       "      <td>0.557222</td>\n",
       "      <td>0.002823</td>\n",
       "    </tr>\n",
       "    <tr>\n",
       "      <th>e</th>\n",
       "      <td>-0.399238</td>\n",
       "      <td>-0.907421</td>\n",
       "      <td>0.530696</td>\n",
       "      <td>1.068333</td>\n",
       "    </tr>\n",
       "    <tr>\n",
       "      <th>f</th>\n",
       "      <td>0.031036</td>\n",
       "      <td>-0.160582</td>\n",
       "      <td>0.297890</td>\n",
       "      <td>-1.302941</td>\n",
       "    </tr>\n",
       "    <tr>\n",
       "      <th>g</th>\n",
       "      <td>-0.295294</td>\n",
       "      <td>0.125197</td>\n",
       "      <td>-0.936848</td>\n",
       "      <td>-1.200805</td>\n",
       "    </tr>\n",
       "    <tr>\n",
       "      <th>h</th>\n",
       "      <td>-1.066340</td>\n",
       "      <td>0.641352</td>\n",
       "      <td>-0.551119</td>\n",
       "      <td>0.849330</td>\n",
       "    </tr>\n",
       "  </tbody>\n",
       "</table>\n",
       "</div>"
      ],
      "text/plain": [
       "          A         B         C         D\n",
       "a  0.323755 -0.748595  2.098298  1.253114\n",
       "b -1.058124  1.637993 -0.288998 -0.746827\n",
       "c  0.537290  2.954592  1.015672 -0.269232\n",
       "d  0.524072  0.800506  0.557222  0.002823\n",
       "e -0.399238 -0.907421  0.530696  1.068333\n",
       "f  0.031036 -0.160582  0.297890 -1.302941\n",
       "g -0.295294  0.125197 -0.936848 -1.200805\n",
       "h -1.066340  0.641352 -0.551119  0.849330"
      ]
     },
     "execution_count": 6,
     "metadata": {},
     "output_type": "execute_result"
    }
   ],
   "source": [
    "df"
   ]
  },
  {
   "cell_type": "markdown",
   "metadata": {},
   "source": [
    "![title](https://www.visiondummy.com/wp-content/uploads/2014/03/gaussiandensity.png)"
   ]
  },
  {
   "cell_type": "code",
   "execution_count": 7,
   "metadata": {},
   "outputs": [
    {
     "name": "stdout",
     "output_type": "stream",
     "text": [
      "[ 4.73396654  3.82536734  5.90882842  7.97962167  2.38963688  5.6614132\n",
      "  5.30423206  4.86586678  5.75846352  0.9431989   4.45951034  2.62156256\n",
      "  5.47005234  4.50185043  5.9111148   3.75422046  4.22488862  2.45225446\n",
      "  4.33867046  4.56342909  4.16401697  7.16742493  5.40137341  4.47144972\n",
      "  2.08977111  1.96207191  4.34221178  6.56477483  7.5339147   6.50889453\n",
      "  3.30562777  1.58392132 12.38777571  5.48392706  5.4562265   8.24297919\n",
      "  4.23919084  3.2762841   1.0408088   4.65002504  4.35273342 -1.1392957\n",
      "  4.15099391  8.4031664   7.25287446  6.09014713  8.98193078  6.01802332\n",
      "  4.26457424  5.13984856  5.27397004  7.84036532  5.17624145  6.12033818\n",
      "  2.72181503  6.11794116  3.88365116  9.25278437  6.30465085  1.50946385\n",
      "  4.92578002  3.58075511  3.33119941  4.85861813  5.71423054  5.48081171\n",
      "  1.03359228  4.22501973  5.56323062  3.19259096  7.39341529  3.2742717\n",
      "  2.81324906  5.17813312  5.88885083  4.54596461  2.15828302  5.78490137\n",
      "  2.96773498  5.28529897  5.81147326  7.96778679  7.42277856  5.15050167\n",
      "  2.21623418  6.8392663   6.68300296  6.0897797   6.99755691  3.37630243\n",
      "  7.05728865  0.7736453   2.35178528  4.96265612  2.90744196  2.30297551\n",
      "  3.91621246  3.47808458  3.18592825  5.06374793  7.52225485  6.93749712\n",
      "  8.42523767  3.79310634  4.91043745  3.70766686  3.55188622  3.07071704\n",
      "  7.34045974  4.7315663   5.84477191 -0.11546184  7.15589593  7.17427464\n",
      "  4.70850938  1.29137875  6.71406673  9.1313146   7.0100701   2.93643509\n",
      "  4.8646087   5.45760308  6.57141291  8.71035259  3.4196064  10.29414203\n",
      "  1.81466016  2.02830174  7.23295907  4.90979783  6.26657557  5.17543393\n",
      " 10.38078942  8.34868518 12.19417108  1.84720272  5.68154061  8.1614636\n",
      "  7.1317226   0.46030733  1.87383653  6.0551089   6.68977262  5.39794523\n",
      "  7.98054441  6.59472984  8.54845506  1.92624803  4.30286388  5.48654763\n",
      "  1.70627114  3.20912173  2.52949285  6.52114552  4.4392396   5.52701552\n",
      "  6.71806005  4.44651712  4.93148532  4.33137035  4.9723323   8.58317693\n",
      "  5.51052024  6.3689244   5.21639158  2.43596175  8.14306393  4.90936641\n",
      "  4.1514127   1.87036277  3.2593288   1.76279284  5.359682    3.16376309\n",
      "  1.70315403  3.21271148  7.22774699  2.59957269  6.00660254  7.1148937\n",
      "  4.7950115   7.11989181  2.8698603   6.87699636 10.14650683  7.95170516\n",
      "  4.17574593  7.17137702  1.17333479  4.97512739  3.94899608  7.20162749\n",
      "  2.27959945  7.32818583  4.66487861  2.92725988  4.01814184  4.61055243\n",
      "  4.93309311  9.50699928  3.61400783  6.16135336  5.09392047  6.10172842\n",
      "  8.04778876  6.42375957  7.32495717  3.72545232  6.89982924  7.96033541\n",
      "  4.97529963  2.53615323  6.14109903  8.0795088   8.37743016  9.19472811\n",
      "  3.50468442  3.18100958  5.36892382  5.57516913  3.48985065  8.90764118\n",
      "  6.47034534  3.94321936  4.37851485  4.85224494  3.27503141  2.906197\n",
      "  8.44049411  3.16425227  8.4911592   3.25188356  0.61765826  1.40998353\n",
      "  7.67609851  4.78714308  5.56976614  4.43903184  7.64529928  3.35006246\n",
      "  6.9694552   6.8955738   8.74147482  2.36219637  5.46022612  3.01313184\n",
      "  4.8374017   5.14066359  4.76282483  6.68188846  5.46983542  2.94989938\n",
      "  6.10597565  3.08958303  4.33445693  6.13174279  4.31266532  2.61336436\n",
      "  4.64506215  7.70928661  6.14785072  1.58058156  6.52079599  3.77665132\n",
      "  6.10863919  4.33570566  3.82400334  5.36537566  2.6412994   4.181759\n",
      "  3.83421784  3.99164343  2.740245    6.58636568  5.83099047  8.6155122\n",
      "  4.95926732  6.04307101  1.60416478  5.37844356  4.19359443  8.9428126\n",
      "  5.95288051  4.15676265  9.19049838  6.41149805  7.36458971  5.2127672\n",
      "  4.51602817  5.12417734  4.22084382  2.33314129  6.17798743  4.89047492\n",
      "  1.4295414   2.07132835  3.9615556   5.06880104  5.52582544  4.99435529\n",
      "  7.00249147  0.1521657   5.44412171  3.81054052  5.81283551  7.21544851\n",
      "  6.5924826   5.4718221   2.87176531  6.00207623  7.37653544  5.15144126\n",
      "  1.23587563  6.18768679  5.3704152   8.44307341  4.78841014  3.66444464\n",
      "  4.25757303  7.36691204  2.06438045  5.59194458  7.08945413  3.02446088\n",
      "  4.04713466  6.82560152  6.34199341  5.16081742  7.1754581   4.20821777\n",
      "  5.4314511   3.14070147  2.73985309  6.96414534  4.29216991  2.63483846\n",
      "  5.37914168  4.60049686  7.11825779  5.73369711  5.55989016  2.64701988\n",
      "  5.6624269   4.60323213  5.1188976   4.01056685  7.61780865  2.83074647\n",
      "  3.65614807  7.00591424  4.30482588  5.18591191  8.79656935  5.18364044\n",
      "  5.80745661  2.00311098  5.44931965  6.3587529   3.42311806  2.01352466\n",
      "  6.26926081  3.86343135  6.98124857  9.00709034  6.37453949  4.82381023\n",
      "  4.90011676  7.95171573 -2.44429688  3.74031754  4.77521137  1.2678512\n",
      "  5.41500682  1.92427658  4.22186675  5.3167565   1.48863934  7.12755204\n",
      "  3.19999016  3.49389174  7.8650205   9.19271696  6.11013138  3.2851715\n",
      "  4.13362011  8.31282542  6.0691678   5.43640656  3.53562402  4.9766678\n",
      "  3.98155458  8.83690617  7.16354051  6.39511631  8.03688085  2.11706821\n",
      "  2.99172609  2.66628853  7.45277214  3.5235851   3.09214753  3.81775331\n",
      "  5.68203228  1.68953748  7.28473567  5.98342139  3.4392595   0.70921425\n",
      "  2.78417935  7.22635576  1.9120907   5.92554069  7.25337006  4.08967518\n",
      "  7.37291452  3.93786638  3.70184116  5.1935182   5.2706702   5.46543705\n",
      "  6.61810005  6.92948449  5.50803505  2.99304612  8.14040815  5.82960149\n",
      "  7.35236679  5.37004673  7.80223073  2.30929333  8.85988827  4.8657072\n",
      "  1.0576219   7.60872779  4.38527846  4.35049059  2.44481322  2.07946362\n",
      "  6.71085793  4.18153328  6.85389583  2.93723386  7.78718513  4.62589715\n",
      "  7.61673451  4.68464708  4.41362949  5.25203966  8.45555194  1.07479342\n",
      "  5.04120919  5.78824775  6.03481606  4.35099439  6.76021973  4.99147719\n",
      "  4.59621731  6.23797435  4.87763557  4.92487358  6.17775926  4.86570086\n",
      "  5.8750521   5.86527956  8.45025215  4.36204023  4.42584072  1.96971661\n",
      "  4.4241629   7.2337786   5.0965983   5.58717196  4.00380934  0.69815002\n",
      "  4.37729986  4.92656371  6.09915008  2.07704192  8.80958964  4.35575734\n",
      "  3.29425149  5.77124427  4.49198328  0.41205498  2.63909946  7.00658651\n",
      "  3.79034053 -0.29980538  4.58734936  6.20047502 11.13926899  3.06797736\n",
      "  7.57657712  3.20707036  4.91822419  5.76397745  7.88152153  5.85983782\n",
      "  4.45654919  2.3098851   6.86292538  6.86319887  6.54659784  6.03345492\n",
      "  7.42376416  4.52012063  4.80895224  2.11043007  5.90562497  5.93649279\n",
      "  5.64981954  5.75187578  5.97423831  5.32835185  2.94742367  4.64705971\n",
      "  5.35805066  1.610248    3.7487667   2.97173857  4.62303669  6.24748942\n",
      "  5.22145375  6.35530969  6.25811812  6.86110257  5.80031457  7.46153829\n",
      "  4.96926206  5.81685745  5.09807604  7.01135866  7.21101942  6.56124701\n",
      "  8.02994992  2.58359122  4.8298294   1.6176984   6.8194389   4.5644793\n",
      "  7.18384596  7.01152732  4.72547297  5.42381391  3.87737611  4.84031614\n",
      "  4.57749939  7.31249432  5.88121914  5.54156134  3.70069025  2.49046192\n",
      "  5.92281297  6.99193355  5.76361134  2.91508858  7.10011801  3.25216192\n",
      "  5.25683655  5.17805268 10.0749161   5.02533525  4.82349119  6.88408406\n",
      "  6.66422311  3.99419104  4.23051241  3.13117159  5.00259226  3.01025902\n",
      "  4.81386621  4.14813893  6.01231932  5.98831784  1.87090763  5.68996069\n",
      "  6.57893146  5.09390142  4.96196739  5.99765035  6.00827126  8.20356896\n",
      "  5.27120026  5.15219238  8.06614768  5.78357547  5.52233308  5.44616465\n",
      "  6.96033189  3.39963475  8.40972616  5.04599548  9.0834676   6.57924178\n",
      "  3.70377744  0.61281678  5.10807151  4.61009485  6.71345077  3.31222003\n",
      "  7.14440609  2.6540715   4.96904046  3.55131274  6.12382139  7.23524039\n",
      "  7.52893981  5.13349801  2.72600141  3.63409734  3.88319316  4.56278025\n",
      "  3.4983696   1.81491931  2.21662406 10.1836107   1.98972764  2.995439\n",
      "  6.06556843  4.18078363  1.9264197   5.46287352  4.3215503   5.77210489\n",
      "  4.28504534  5.24190358  5.87867643  2.29154683  5.84800597  5.02919153\n",
      "  6.07112715  4.22528188  4.04063139  5.7524762   7.28610516  7.70874463\n",
      "  5.46310894  7.76715887  8.91342638  9.78986072  1.38633333  4.07117951\n",
      "  1.92987386  5.52303639  0.22583016  5.63751469  5.37328876  5.3904125\n",
      "  5.43732536  4.22303195  4.02558002  7.15046091  5.82655907  2.34608667\n",
      "  4.19384933  2.69612851  8.3976847   4.2068806   2.95748049  9.74464437\n",
      "  5.62218897  7.26648031  4.68922991  3.88513155  8.24597503  3.74562518\n",
      "  1.14777354  4.14607904  7.23036969  7.67008214  6.78293113  6.57966023\n",
      "  3.55379455  3.00058217  3.56945625  6.42947151  3.13784809  7.64624576\n",
      "  0.85718276  3.97039516  5.06633552  9.2410217   3.84798187  9.17726657\n",
      "  7.62165351  2.1475909   6.92985459  8.54903335  5.33968267  2.41858766\n",
      "  2.66818222  3.66864498  4.52817778  5.15798167  8.50638869  2.87324241\n",
      "  4.02837431  7.35662257  0.65812167  4.85402113  1.05477062  1.87925541\n",
      "  6.72128411  4.78109521  2.54661216  9.09851419  6.50779289  2.77846153\n",
      "  3.37060485  5.79392288  4.23358017  3.70806231  6.64187991  4.52578343\n",
      "  4.64795873  6.79335253  5.63220812  2.73130747  3.04814821  5.51074436\n",
      "  3.53228379  3.51464765  4.89253741  3.59367236  6.71863849  7.82551018\n",
      "  4.25241191  5.02114474  5.05035059  7.56565725  1.45878619  4.37401088\n",
      "  0.43609544  6.70180632  7.4227297   4.52539617  3.14916949  3.83531435\n",
      "  5.30100279  7.74440189  4.64621001  9.83527908  8.54193801  7.43208646\n",
      "  2.42747094  3.31241082  4.11751045  4.84798402  2.98028448  5.64587764\n",
      "  9.66518598  8.99208662  3.44488326  7.18928131  6.14894648  3.37667885\n",
      "  5.56072738  9.54268928  5.75876123  5.15486136  2.11836412  3.28129284\n",
      "  7.35067678  4.71058033  6.47147307  8.20764862  6.87081292  6.9598845\n",
      "  6.0530123   7.81996775  0.42098168  9.13284686  1.32335342  6.17922132\n",
      "  5.49331772 11.04103282  4.98295744  4.26873852  5.7305338   3.07695823\n",
      "  7.3722257   4.80730676  6.46897164  8.70119339  2.64741929  6.2890343\n",
      "  3.48215995  5.89155516  5.49098297  6.48578569  9.7451567   7.20947807\n",
      "  2.42390405  0.71387126  4.5727534   5.29417954  2.86330298  2.67188573\n",
      "  3.64174499  4.83933681  3.51255482  2.28847583  4.166016    4.07492485\n",
      "  7.69247053  7.50555642  3.19246155  6.55603325  3.04170105  7.03272426\n",
      "  5.34098686  4.83529089  5.8073395   4.90768938  2.75848402  2.44855637\n",
      "  3.83078796  3.19249288  4.66534085  6.17161499  3.63632603  7.06473856\n",
      "  8.235689    3.2630463   5.42917529  6.07245619  5.28711515  5.70278302\n",
      "  6.1635598   4.14396268  1.85427678  2.81261522  6.42219301  2.99771584\n",
      "  4.05833679  3.19663837  5.52009492  2.12492589  5.03015283  3.62646824\n",
      "  6.7417922   5.88676163  3.75075054  3.77708605  3.52116575  5.85060287\n",
      "  5.33246906  5.11787497  6.43353241  3.50107957 -1.08650526  5.29890386\n",
      "  4.20882277  4.698719    7.40345648  5.04917814  2.97641727  7.16951302\n",
      "  2.39722416  6.87340518  5.22407908  7.32713101  3.43771164  1.14123176\n",
      "  4.50817549  5.85737811  5.72288792  3.9202691   2.9633185   2.6544566\n",
      "  5.451237    8.30889209  8.80295106  1.97493156  4.79620008  6.92385741\n",
      "  6.16423726  5.12244525  4.27488588  7.28289097  4.34214137  5.53228747\n",
      "  4.48207662  5.78605473  5.37449882  3.85346486  6.55403083  2.41897002\n",
      "  3.6527112   1.66540992  7.70061669  3.69188335  8.97267631  8.36269535\n",
      "  4.25683911  3.20066346  2.3320305   5.415092    6.72173121  4.80467237\n",
      "  6.86305354  1.25634628  8.81328433  5.7846816   6.63682691  0.6049802\n",
      "  5.0686321   7.69793901  5.75534907  6.39398628  5.8020677   9.08016843\n",
      "  5.87456945  5.52062146  4.55203814  5.99090687  6.67841388  7.06752693\n",
      "  5.84246497 -0.75173483  6.39019092  5.76566218  6.65662657  3.01042357\n",
      "  7.97471416  2.64439168  7.77405214  4.07255486  3.77605588  2.82698558\n",
      "  3.49530109  3.23825426  4.24989742  6.35620296  7.5169936   2.7638215\n",
      "  6.56459544  5.64134696  5.00452941  0.23975707  6.71062935  6.2942371\n",
      "  3.49027621  3.81207636  6.31468012  0.46210734  3.18737777  7.32568688\n",
      "  3.31863672  8.10454491  2.33234786  4.19361623  5.4412514   2.51551812\n",
      "  5.19569563  6.03956602  5.22168298  4.50031706  3.62298215  4.60071201\n",
      "  3.2589231   9.31234525  6.72306876  9.67156955  5.08587002  5.59627001\n",
      " 10.83429143  5.3086329   3.95188589  4.95342662  6.46401144  5.58110808\n",
      "  6.24653527  6.93906411  4.25055408  5.49852788  5.22441477  4.75779605\n",
      "  5.60989884  9.33641655  7.60568761  4.20232889  3.52345674  5.27307143\n",
      "  4.53638644  4.99067459  5.67907054  4.69814787  7.20235752  2.22110964\n",
      "  2.6834072   2.62890812  3.29903787  6.66782645  1.45092291  6.97878624\n",
      "  5.94199558  5.71540546  5.82957897  7.21434858]\n",
      "(1000,)\n"
     ]
    }
   ],
   "source": [
    "#Generate a normal distribution\n",
    "u=5\n",
    "sigma=2\n",
    "vals=u + sigma*(np.random.randn(1000))\n",
    "print(vals)\n",
    "print(vals.shape)\n"
   ]
  },
  {
   "cell_type": "code",
   "execution_count": 8,
   "metadata": {},
   "outputs": [
    {
     "data": {
      "image/png": "[encoded data removed]",
      "text/plain": [
       "<Figure size 432x288 with 1 Axes>"
      ]
     },
     "metadata": {
      "needs_background": "light"
     },
     "output_type": "display_data"
    }
   ],
   "source": [
    "plt.hist(vals,50)\n",
    "plt.show()"
   ]
  },
  {
   "cell_type": "code",
   "execution_count": 9,
   "metadata": {},
   "outputs": [],
   "source": [
    "vals=np.round(vals)"
   ]
  },
  {
   "cell_type": "code",
   "execution_count": 10,
   "metadata": {},
   "outputs": [
    {
     "data": {
      "text/plain": [
       "(array([  4.,  10.,  97., 122., 150., 362., 136., 101.,  13.,   5.]),\n",
       " array([-2. , -0.6,  0.8,  2.2,  3.6,  5. ,  6.4,  7.8,  9.2, 10.6, 12. ]),\n",
       " <a list of 10 Patch objects>)"
      ]
     },
     "execution_count": 10,
     "metadata": {},
     "output_type": "execute_result"
    },
    {
     "data": {
      "image/png": "[encoded data removed]",
      "text/plain": [
       "<Figure size 432x288 with 1 Axes>"
      ]
     },
     "metadata": {
      "needs_background": "light"
     },
     "output_type": "display_data"
    }
   ],
   "source": [
    "plt.hist(vals)"
   ]
  },
  {
   "cell_type": "code",
   "execution_count": 11,
   "metadata": {},
   "outputs": [
    {
     "data": {
      "text/plain": [
       "(array([-2., -1.,  0.,  1.,  2.,  3.,  4.,  5.,  6.,  7.,  8.,  9., 10.,\n",
       "        11., 12.]),\n",
       " array([  1,   3,  10,  29,  68, 122, 150, 202, 160, 136,  66,  35,  13,\n",
       "          3,   2]))"
      ]
     },
     "execution_count": 11,
     "metadata": {},
     "output_type": "execute_result"
    }
   ],
   "source": [
    "np.unique(vals,return_counts=True)"
   ]
  },
  {
   "cell_type": "markdown",
   "metadata": {},
   "source": [
    "#### The data is termed mutivariate when more than one variable is being observed. For this question, each observation has two variables (the data is 2-dimensional.) For the multivariate datapoint x, having d dimensions, the Gaussian density function is\n",
    "![title](data:image/png;base64,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)"
   ]
  },
  {
   "cell_type": "markdown",
   "metadata": {},
   "source": [
    "When working with multiple variables, the covariance matrix provides a succinct way to\n",
    "summarize the covariances of all pairs of variables. In particular, the covariance matrix,\n",
    "which we usually denote as Σ, is the n × n matrix whose (i, j)th entry is Cov[Xi, Xj]."
   ]
  },
  {
   "cell_type": "markdown",
   "metadata": {},
   "source": [
    "Also the covariance matrix is symmetric. The diagonal entries of the covariance matrix are the variances and the other entries are the covariances. For this reason, the covariance matrix is sometimes called the _variance-covariance matrix_\n"
   ]
  },
  {
   "cell_type": "code",
   "execution_count": 12,
   "metadata": {},
   "outputs": [
    {
     "name": "stdout",
     "output_type": "stream",
     "text": [
      "[[-0.42462084  0.58029525]\n",
      " [-2.23353303 -0.58699709]\n",
      " [-0.31263833 -1.87682798]\n",
      " [ 0.79427739  1.9446179 ]\n",
      " [-0.01564151 -0.24592313]]\n",
      "(500, 2)\n"
     ]
    },
    {
     "data": {
      "image/png": "[encoded data removed]",
      "text/plain": [
       "<Figure size 432x288 with 1 Axes>"
      ]
     },
     "metadata": {
      "needs_background": "light"
     },
     "output_type": "display_data"
    },
    {
     "data": {
      "image/png": "[encoded data removed]",
      "text/plain": [
       "<Figure size 432x288 with 1 Axes>"
      ]
     },
     "metadata": {
      "needs_background": "light"
     },
     "output_type": "display_data"
    }
   ],
   "source": [
    "#Bi-Variate(say height and weight)\n",
    "mean1=np.array([0,0])\n",
    "cov1=np.array([[1,0],[0,1]])#say color and weight\n",
    "\n",
    "# clearly the distribution is concentrated around (0,0)\n",
    "# σxx= σyy=1, σxy= σyx=0[uncorelated](say color and weight of monkey)\n",
    "\n",
    "mean2=np.array([0,0])\n",
    "cov2=np.array([[1,0.5],[0.5,1]])# say height and weight as positively correlated\n",
    "\n",
    "dist1=np.random.multivariate_normal(mean1,cov1,500)\n",
    "dist2=np.random.multivariate_normal(mean2,cov2,500)\n",
    "\n",
    "print(dist1[0:5])\n",
    "print(dist1.shape)\n",
    "plt.scatter(dist1[:,0],dist1[:,1])\n",
    "plt.show()\n",
    "plt.scatter(dist2[:,0],dist2[:,1])\n",
    "plt.show()\n"
   ]
  },
  {
   "cell_type": "markdown",
   "metadata": {},
   "source": [
    "__Therefore, the covariance matrix is always a symmetric matrix with the variances on its diagonal and the covariances off-diagonal. Two-dimensional normally distributed data is explained completely by its mean and its 2x2 covariance matrix. Similarly, a 3x3 covariance matrix is used to capture the spread of three-dimensional data, and a NxN covariance matrix captures the spread of N-dimensional data__"
   ]
  },
  {
   "cell_type": "code",
   "execution_count": 13,
   "metadata": {},
   "outputs": [
    {
     "name": "stdout",
     "output_type": "stream",
     "text": [
      "[[ 0.586927    0.68829527]\n",
      " [-1.2378655  -2.23607194]\n",
      " [ 0.72930407  2.07259159]\n",
      " [-0.29926673 -0.4860202 ]\n",
      " [-0.39546563 -1.60755662]]\n",
      "(500, 2)\n"
     ]
    },
    {
     "data": {
      "image/png": "[encoded data removed]",
      "text/plain": [
       "<Figure size 432x288 with 1 Axes>"
      ]
     },
     "metadata": {
      "needs_background": "light"
     },
     "output_type": "display_data"
    }
   ],
   "source": [
    "#Bi-Variate(say height and weight)\n",
    "mean1=np.array([0,0])\n",
    "cov1=np.array([[1,0.8],[0.8,1]])#say color and weight\n",
    "\n",
    "# clearly the distribution is concentrated around (0,0)\n",
    "# σxx= σyy=1, σxy= σyx=0[uncorelated](say color and weight of monkey)\n",
    "\n",
    "mean2=np.array([5,6])\n",
    "cov2=np.array([[1.8,0.2],[0.2,0.1]])# say height and weight as positively correlated\n",
    "\n",
    "dist1=np.random.multivariate_normal(mean1,cov1,500)\n",
    "dist2=np.random.multivariate_normal(mean2,cov2,500)\n",
    "\n",
    "print(dist1[0:5])\n",
    "print(dist1.shape)\n",
    "plt.scatter(dist1[:,0],dist1[:,1])\n",
    "plt.scatter(dist2[:,0],dist2[:,1])\n",
    "plt.show()\n"
   ]
  },
  {
   "cell_type": "markdown",
   "metadata": {},
   "source": [
    "![title](https://www.visiondummy.com/wp-content/uploads/2014/04/covariances.png)"
   ]
  },
  {
   "cell_type": "code",
   "execution_count": 14,
   "metadata": {},
   "outputs": [],
   "source": [
    "import scipy.stats as st\n",
    "import numpy as np\n",
    "import math\n",
    "import matplotlib.pyplot as plt\n",
    "norm=st.norm.pdf\n",
    "cdf=st.norm.cdf\n"
   ]
  },
  {
   "cell_type": "code",
   "execution_count": 15,
   "metadata": {},
   "outputs": [
    {
     "data": {
      "text/plain": [
       "0.3989422804014327"
      ]
     },
     "execution_count": 15,
     "metadata": {},
     "output_type": "execute_result"
    }
   ],
   "source": [
    "norm(0)"
   ]
  },
  {
   "cell_type": "code",
   "execution_count": 16,
   "metadata": {},
   "outputs": [
    {
     "data": {
      "text/plain": [
       "0.5"
      ]
     },
     "execution_count": 16,
     "metadata": {},
     "output_type": "execute_result"
    }
   ],
   "source": [
    "cdf(0)"
   ]
  },
  {
   "cell_type": "code",
   "execution_count": 17,
   "metadata": {},
   "outputs": [
    {
     "data": {
      "text/plain": [
       "0.864464607226755"
      ]
     },
     "execution_count": 17,
     "metadata": {},
     "output_type": "execute_result"
    }
   ],
   "source": [
    "cdf(1.1006)"
   ]
  },
  {
   "cell_type": "code",
   "execution_count": 18,
   "metadata": {},
   "outputs": [
    {
     "ename": "SyntaxError",
     "evalue": "invalid syntax (<ipython-input-18-3f81a1f055de>, line 1)",
     "output_type": "error",
     "traceback": [
      "\u001b[1;36m  File \u001b[1;32m\"<ipython-input-18-3f81a1f055de>\"\u001b[1;36m, line \u001b[1;32m1\u001b[0m\n\u001b[1;33m    st.norm.rvs(loc=2,scale=1,size=5)s\u001b[0m\n\u001b[1;37m                                     ^\u001b[0m\n\u001b[1;31mSyntaxError\u001b[0m\u001b[1;31m:\u001b[0m invalid syntax\n"
     ]
    }
   ],
   "source": [
    "st.norm.rvs(loc=2,scale=1,size=5)s"
   ]
  },
  {
   "cell_type": "markdown",
   "metadata": {},
   "source": [
    "st.norm.pdf(x) = __exp(-x**2/2)/sqrt(2*pi)__\n",
    "<br>\n",
    "The probability density above is defined in the “standardized” form. To shift and/or scale the distribution use the loc and scale parameters. Specifically, norm.pdf(x, loc, scale) is identically equivalent to norm.pdf(y) / scale with y = (x - loc) / scale."
   ]
  },
  {
   "cell_type": "markdown",
   "metadata": {},
   "source": [
    "#### The location (loc) keyword specifies the mean.The scale (scale) keyword specifies the standard deviation"
   ]
  },
  {
   "cell_type": "markdown",
   "metadata": {},
   "source": [
    "- Example: scipy.stats.norm.rvs(2, 3) generates a random sample from a normal (Gaussian) random variable with mean 2 and standard deviation 3.\n",
    "- __The function call scipy.stats.norm.rvs(2, 3, size = 10) returns an array of 10 samples from the same distribution__."
   ]
  },
  {
   "cell_type": "markdown",
   "metadata": {},
   "source": [
    "![title](https://vrzkj25a871bpq7t1ugcgmn9-wpengine.netdna-ssl.com/wp-content/uploads/2018/12/numpy-random-normal-syntax-explanation.png)"
   ]
  },
  {
   "cell_type": "markdown",
   "metadata": {},
   "source": [
    "__THE PARAMETERS OF THE NP.RANDOM.NORMAL FUNCTION__\n",
    "<br>The np.random.normal function has __three primary parameters__ that control the output: __loc, scale, and size__."
   ]
  },
  {
   "cell_type": "markdown",
   "metadata": {},
   "source": [
    "#### What about np.random.rand?\n",
    "__numpy.random.rand(d0, d1, ..., dn)__\n",
    "- Random values in a given shape.\n",
    "\n",
    "Create an array of the given shape and populate it with random samples from a uniform distribution over [0, 1)"
   ]
  },
  {
   "cell_type": "code",
   "execution_count": null,
   "metadata": {},
   "outputs": [],
   "source": []
  }
 ],
 "metadata": {
  "kernelspec": {
   "display_name": "Python 3",
   "language": "python",
   "name": "python3"
  },
  "language_info": {
   "codemirror_mode": {
    "name": "ipython",
    "version": 3
   },
   "file_extension": ".py",
   "mimetype": "text/x-python",
   "name": "python",
   "nbconvert_exporter": "python",
   "pygments_lexer": "ipython3",
   "version": "3.7.3"
  }
 },
 "nbformat": 4,
 "nbformat_minor": 2
}
